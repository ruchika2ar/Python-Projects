{
 "cells": [
  {
   "cell_type": "markdown",
   "metadata": {},
   "source": [
    "## Program 1"
   ]
  },
  {
   "cell_type": "markdown",
   "metadata": {},
   "source": [
    "**Aim** : Write a program to understand the basics of Python by the following programs:\n",
    "1. To add the numbers to illustrate the use of print statement \n",
    "2. To illustrate the use of conditional statement by checking if the input number is odd or even.\n",
    "3. To illustrate the use of functions.\n",
    "4. To access the values in a dictionary.\n",
    "5. To perform various string operations."
   ]
  },
  {
   "cell_type": "markdown",
   "metadata": {},
   "source": [
    "**Theory** : Python is an interpreted, high-level, general-purpose programming language. Created by Guido van \n",
    "Rossum and first released in 1991, Python's design philosophy emphasizes code readability with its \n",
    "notable use of significant whitespace. Its language constructs and object-oriented approach aim to \n",
    "help programmers write clear, logical code for small and large-scale projects. \n",
    "\n",
    "Python is dynamically typed and garbage-collected. It supports multiple programming paradigms, \n",
    "including procedural, object-oriented, and functional programming. "
   ]
  },
  {
   "cell_type": "markdown",
   "metadata": {},
   "source": [
    "**Code and Output** :"
   ]
  },
  {
   "cell_type": "markdown",
   "metadata": {},
   "source": [
    "**1. To add the numbers to illustrate the use of print statement**\n",
    "\n",
    "The print() function prints the specified message to the screen, or other standard output device.\n",
    "The message can be a string, or any other object, the object will be converted into a string before written to the screen.\n",
    "\n",
    "*Syntax : print(object(s), separator=separator, end=end, file=file, flush=flush)*\n"
   ]
  },
  {
   "cell_type": "code",
   "execution_count": 1,
   "metadata": {},
   "outputs": [
    {
     "name": "stdout",
     "output_type": "stream",
     "text": [
      "5\n",
      "-11\n",
      "The sum of 5 and -11 is -6\n"
     ]
    }
   ],
   "source": [
    "# input two numbers and print their sum\n",
    "num1 = int(input())\n",
    "num2 = int(input())\n",
    "print('The sum of {0} and {1} is {2}'.format(num1, num2, num1 + num2))"
   ]
  },
  {
   "cell_type": "markdown",
   "metadata": {},
   "source": [
    "**2. To illustrate the use of conditional statement by checking if the input number is odd or even.**\n",
    "\n",
    "In Python, *if* statement is used for decision making.  It will run the body of code only when *if* statement is true.  \n",
    "The code under the *elif* keyword is executed when the previous conditions were not true and its condition is true.  \n",
    "The *else* keyword catches anything which isn't caught by the preceding conditions."
   ]
  },
  {
   "cell_type": "code",
   "execution_count": 2,
   "metadata": {},
   "outputs": [
    {
     "name": "stdout",
     "output_type": "stream",
     "text": [
      "21\n",
      "21 is ODD!\n"
     ]
    }
   ],
   "source": [
    "# check if the number is odd or even\n",
    "num = int(input())\n",
    "if (num % 2 == 0):\n",
    "    print('{0} is EVEN!'.format(num))\n",
    "else:\n",
    "    print('{0} is ODD!'.format(num))\n"
   ]
  },
  {
   "cell_type": "markdown",
   "metadata": {},
   "source": [
    "**3. To illustrate the use of functions.** \n",
    "\n",
    "A function is a block of organized, reusable code that is used to perform a single, related action. Functions provide better modularity for your application and a high degree of code reusing.\n",
    "\n",
    "* Function blocks begin with the keyword def followed by the function name and parentheses ().\n",
    "* Any input parameters or arguments should be placed within these parentheses.\n",
    "* The code block within every function starts with a colon (:) and is indented.\n",
    "* The statement *return* expression exits a function, optionally passing back an expression to the caller. A return statement with no arguments is the same as return None.\n",
    "\n",
    "\n",
    "\n"
   ]
  },
  {
   "cell_type": "code",
   "execution_count": 3,
   "metadata": {},
   "outputs": [
    {
     "name": "stdout",
     "output_type": "stream",
     "text": [
      "10\n",
      "55\n"
     ]
    }
   ],
   "source": [
    "# deine a function that calculates the nth fibonacci number as input by the user\n",
    "def fibonacci (x):\n",
    "    if (x == 1):\n",
    "        return 1\n",
    "    if(x == 2):\n",
    "        return 1\n",
    "    return fibonacci(x - 1) + fibonacci(x - 2)\n",
    "\n",
    "n = int(input())\n",
    "print(fibonacci(n))"
   ]
  },
  {
   "cell_type": "markdown",
   "metadata": {},
   "source": [
    "**4. To access the values in a dictionary.**\n",
    "\n",
    "A dictionary is a collection which is unordered, changeable and indexed.  \n",
    "In Python dictionaries are written with curly brackets, and they have keys and values.\n",
    "\n",
    "* We can access the items of a dictionary by referring to its key name, inside square brackets\n",
    "* There is also a method called *get()* that gives the same result\n",
    "* We can change the value of a specific item by referring to its key name\n",
    "* We can loop through both keys and values, by using the *items()* function\n",
    "\n",
    "\n"
   ]
  },
  {
   "cell_type": "code",
   "execution_count": 4,
   "metadata": {},
   "outputs": [],
   "source": [
    "# defining a dictionary\n",
    "details = {'Name' : 'Ruchika', 'Age' : 20, 'ID' : '2K17/IT/102', 'Semester' : 6}"
   ]
  },
  {
   "cell_type": "code",
   "execution_count": 5,
   "metadata": {},
   "outputs": [
    {
     "data": {
      "text/plain": [
       "'Ruchika'"
      ]
     },
     "execution_count": 5,
     "metadata": {},
     "output_type": "execute_result"
    }
   ],
   "source": [
    "# access the value for keyword 'Name'\n",
    "details['Name']"
   ]
  },
  {
   "cell_type": "code",
   "execution_count": 6,
   "metadata": {},
   "outputs": [
    {
     "data": {
      "text/plain": [
       "20"
      ]
     },
     "execution_count": 6,
     "metadata": {},
     "output_type": "execute_result"
    }
   ],
   "source": [
    "# access the value for keyword 'Age'\n",
    "details.get('Age')"
   ]
  },
  {
   "cell_type": "code",
   "execution_count": 7,
   "metadata": {},
   "outputs": [
    {
     "data": {
      "text/plain": [
       "'Ruchika Goel'"
      ]
     },
     "execution_count": 7,
     "metadata": {},
     "output_type": "execute_result"
    }
   ],
   "source": [
    "# update the value for keyword 'Name'\n",
    "details['Name'] = 'Ruchika Goel'\n",
    "details['Name']"
   ]
  },
  {
   "cell_type": "code",
   "execution_count": 8,
   "metadata": {},
   "outputs": [
    {
     "name": "stdout",
     "output_type": "stream",
     "text": [
      "Name : Ruchika Goel\n",
      "Age : 20\n",
      "ID : 2K17/IT/102\n",
      "Semester : 6\n"
     ]
    }
   ],
   "source": [
    "# print all key-vale pairs in 'details' dictionary\n",
    "for x, y in details.items():\n",
    "    print(x, ':' , y)"
   ]
  },
  {
   "cell_type": "markdown",
   "metadata": {},
   "source": [
    "**5. To perform various string operations.** \n",
    "\n",
    "Strings in Python are arrays of bytes representing unicode characters. However, Python does not have a character data type, a single character is simply a string with a length of 1.\n",
    "\n",
    "* String literals in python are surrounded by either single quotation marks, or double quotation marks.\n",
    "* Square brackets can be used to access elements of the string\n",
    "* Slicing : A range of characters can be returned using the slice syntax. We need to specify the start index and the end index, separated by a colon, to return the desired part of the string.\n",
    "* Negative Indexing : Negative indexing is used to slice from the end of the string.\n",
    "* String Length : The *len()* function returns the length of the string\n",
    "* The *lower()* and *upper()* method return the string in lowercase and uppercase respectively.\n",
    "* To check if a certain phrase or character is present in a string, we can use the keywords *in* or *not in*.\n",
    "* String Concatenation : To concatenate two strings we use the *+* operator.\n",
    "* The *format()* method takes unlimited number of arguments, and are placed into the respective placeholders"
   ]
  },
  {
   "cell_type": "code",
   "execution_count": 9,
   "metadata": {},
   "outputs": [
    {
     "name": "stdout",
     "output_type": "stream",
     "text": [
      "R .  blue Roses\n"
     ]
    }
   ],
   "source": [
    "# define a string and print its slices\n",
    "s = 'Roses are red and violets are blue.'\n",
    "print(s[0], s[-1], s[-6:-1], s[0:5])"
   ]
  },
  {
   "cell_type": "code",
   "execution_count": 10,
   "metadata": {},
   "outputs": [
    {
     "data": {
      "text/plain": [
       "35"
      ]
     },
     "execution_count": 10,
     "metadata": {},
     "output_type": "execute_result"
    }
   ],
   "source": [
    "# print the length of the string\n",
    "len(s)"
   ]
  },
  {
   "cell_type": "code",
   "execution_count": 11,
   "metadata": {},
   "outputs": [
    {
     "name": "stdout",
     "output_type": "stream",
     "text": [
      "roses are red and violets are blue.\n",
      "ROSES ARE RED AND VIOLETS ARE BLUE.\n"
     ]
    }
   ],
   "source": [
    "# print the string in lowercase and uppercase\n",
    "print(s.lower())\n",
    "print(s.upper())"
   ]
  },
  {
   "cell_type": "code",
   "execution_count": 12,
   "metadata": {},
   "outputs": [
    {
     "name": "stdout",
     "output_type": "stream",
     "text": [
      "True\n",
      "False\n"
     ]
    }
   ],
   "source": [
    "# check if certain string are present in the string as substring\n",
    "print('are' in s)\n",
    "print('rose' in s)"
   ]
  },
  {
   "cell_type": "code",
   "execution_count": 13,
   "metadata": {},
   "outputs": [
    {
     "name": "stdout",
     "output_type": "stream",
     "text": [
      "Roses are red and violets are blue. Sugar is sweet, and so are you!\n"
     ]
    }
   ],
   "source": [
    "# Concatenate two strings\n",
    "s_new = s + ' Sugar is sweet, and so are you!'\n",
    "print(s_new)"
   ]
  },
  {
   "cell_type": "code",
   "execution_count": 14,
   "metadata": {},
   "outputs": [
    {
     "name": "stdout",
     "output_type": "stream",
     "text": [
      "Roses are RED and violets are BLUE.\n"
     ]
    }
   ],
   "source": [
    "# format a string\n",
    "st = 'Roses are {} and violets are {}.'\n",
    "print(st.format('RED', 'BLUE'))"
   ]
  },
  {
   "cell_type": "code",
   "execution_count": null,
   "metadata": {},
   "outputs": [],
   "source": []
  }
 ],
 "metadata": {
  "kernelspec": {
   "display_name": "Python 3",
   "language": "python",
   "name": "python3"
  },
  "language_info": {
   "codemirror_mode": {
    "name": "ipython",
    "version": 3
   },
   "file_extension": ".py",
   "mimetype": "text/x-python",
   "name": "python",
   "nbconvert_exporter": "python",
   "pygments_lexer": "ipython3",
   "version": "3.7.1"
  }
 },
 "nbformat": 4,
 "nbformat_minor": 2
}
