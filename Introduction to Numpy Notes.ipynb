{
 "cells": [
  {
   "cell_type": "code",
   "execution_count": 1,
   "metadata": {},
   "outputs": [],
   "source": [
    "# importing numpy package as np\n",
    "import numpy as np"
   ]
  },
  {
   "cell_type": "code",
   "execution_count": 3,
   "metadata": {},
   "outputs": [
    {
     "name": "stdout",
     "output_type": "stream",
     "text": [
      "[  10   10 1999]\n",
      "<class 'numpy.ndarray'>\n"
     ]
    }
   ],
   "source": [
    "an_array = np.array([10, 10, 1999]) # creating an 1-D array\n",
    "print(an_array)\n",
    "print(type(an_array)) # print the type of the array i.e. numpy.ndarray"
   ]
  },
  {
   "cell_type": "code",
   "execution_count": 4,
   "metadata": {},
   "outputs": [
    {
     "name": "stdout",
     "output_type": "stream",
     "text": [
      "(3,)\n"
     ]
    }
   ],
   "source": [
    "print(an_array.shape) # print the dimensions of the nd-array\n",
    "# this is a vector"
   ]
  },
  {
   "cell_type": "code",
   "execution_count": 5,
   "metadata": {},
   "outputs": [
    {
     "name": "stdout",
     "output_type": "stream",
     "text": [
      "10 10 1999\n"
     ]
    }
   ],
   "source": [
    "print(an_array[0], an_array[1], an_array[2]) # priniting the values of the array"
   ]
  },
  {
   "cell_type": "code",
   "execution_count": 7,
   "metadata": {},
   "outputs": [
    {
     "name": "stdout",
     "output_type": "stream",
     "text": [
      "[  10   11 1999]\n"
     ]
    }
   ],
   "source": [
    "an_array[1] = 11 # np arrays are mutable\n",
    "# an_array[1] = '11' # this gives an error since all entries in the array must be of same type \n",
    "print(an_array)"
   ]
  },
  {
   "cell_type": "code",
   "execution_count": 12,
   "metadata": {},
   "outputs": [
    {
     "name": "stdout",
     "output_type": "stream",
     "text": [
      "(3, 2)\n",
      "20\n"
     ]
    }
   ],
   "source": [
    "v = np.array([[10, 20], [11, 22], [12, 24]])\n",
    "print(v.shape) # we get (3, 2) as the output\n",
    "# this is a rank 3 array, rank is equal to the number of rows in the array\n",
    "print(v[0][1])"
   ]
  },
  {
   "cell_type": "markdown",
   "metadata": {},
   "source": [
    "### Other useful numpy features"
   ]
  },
  {
   "cell_type": "code",
   "execution_count": 14,
   "metadata": {},
   "outputs": [
    {
     "name": "stdout",
     "output_type": "stream",
     "text": [
      "[[0.]\n",
      " [0.]\n",
      " [0.]\n",
      " [0.]]\n"
     ]
    }
   ],
   "source": [
    "# create an array of zeros\n",
    "zer = np.zeros((4, 1))\n",
    "print(zer)"
   ]
  },
  {
   "cell_type": "code",
   "execution_count": 18,
   "metadata": {},
   "outputs": [
    {
     "name": "stdout",
     "output_type": "stream",
     "text": [
      "[[2]\n",
      " [2]\n",
      " [2]\n",
      " [2]]\n",
      "(4, 1)\n"
     ]
    }
   ],
   "source": [
    "# create an array prefilled with some other values\n",
    "two = np.full((4, 1), 2)\n",
    "print(two)\n",
    "print(two.shape)"
   ]
  },
  {
   "cell_type": "code",
   "execution_count": 19,
   "metadata": {},
   "outputs": [
    {
     "name": "stdout",
     "output_type": "stream",
     "text": [
      "[[1. 1.]\n",
      " [1. 1.]]\n",
      "(2, 2)\n"
     ]
    }
   ],
   "source": [
    "# create an array filled wih ones\n",
    "one = np.ones((2, 2))\n",
    "print(one)\n",
    "print(one.shape)\n"
   ]
  },
  {
   "cell_type": "code",
   "execution_count": 22,
   "metadata": {},
   "outputs": [
    {
     "name": "stdout",
     "output_type": "stream",
     "text": [
      "[[1. 0. 0.]\n",
      " [0. 1. 0.]\n",
      " [0. 0. 1.]]\n"
     ]
    }
   ],
   "source": [
    "# create a identity array\n",
    "diag = np.eye(3,3) # does not give an error in case of rectangular shpe, has 1 only on the principal diagonal\n",
    "print(diag)"
   ]
  },
  {
   "cell_type": "code",
   "execution_count": 23,
   "metadata": {},
   "outputs": [
    {
     "name": "stdout",
     "output_type": "stream",
     "text": [
      "[[1. 0. 0. 0.]\n",
      " [0. 1. 0. 0.]\n",
      " [0. 0. 1. 0.]]\n"
     ]
    }
   ],
   "source": [
    "diagR = np.eye(3, 4)\n",
    "print(diagR)"
   ]
  },
  {
   "cell_type": "code",
   "execution_count": 26,
   "metadata": {},
   "outputs": [
    {
     "name": "stdout",
     "output_type": "stream",
     "text": [
      "[1. 1.]\n",
      "[[1. 1.]]\n"
     ]
    }
   ],
   "source": [
    "rank1 = np.ones(2)\n",
    "print(rank1)\n",
    "rank2 = np.ones((1, 2))\n",
    "print(rank2)"
   ]
  },
  {
   "cell_type": "markdown",
   "metadata": {},
   "source": [
    "*Creating an array filled with random vales*"
   ]
  },
  {
   "cell_type": "code",
   "execution_count": 27,
   "metadata": {},
   "outputs": [
    {
     "name": "stdout",
     "output_type": "stream",
     "text": [
      "[[0.02706081 0.66666488 0.51060438]\n",
      " [0.73076531 0.49774909 0.46025327]]\n"
     ]
    }
   ],
   "source": [
    "rArr = np.random.random((2, 3))\n",
    "print(rArr)"
   ]
  },
  {
   "cell_type": "markdown",
   "metadata": {},
   "source": [
    "## Array Indexing"
   ]
  },
  {
   "cell_type": "code",
   "execution_count": 30,
   "metadata": {},
   "outputs": [
    {
     "name": "stdout",
     "output_type": "stream",
     "text": [
      "[[11 12 13 14]\n",
      " [21 22 23 24]\n",
      " [31 32 33 34]]\n"
     ]
    }
   ],
   "source": [
    "an_array = np.array([[11, 12, 13, 14], [21, 22, 23, 24], [31, 32, 33, 34]])\n",
    "print(an_array)"
   ]
  },
  {
   "cell_type": "code",
   "execution_count": 34,
   "metadata": {},
   "outputs": [
    {
     "name": "stdout",
     "output_type": "stream",
     "text": [
      "[[12 99]\n",
      " [22 23]]\n",
      "(2, 2)\n"
     ]
    }
   ],
   "source": [
    "slic = an_array[0:2, 1:3]\n",
    "print(slic)\n",
    "print(slic.shape)"
   ]
  },
  {
   "cell_type": "code",
   "execution_count": 35,
   "metadata": {},
   "outputs": [
    {
     "name": "stdout",
     "output_type": "stream",
     "text": [
      "[[11 12 99 14]\n",
      " [21 22 23 24]\n",
      " [31 32 33 34]]\n"
     ]
    }
   ],
   "source": [
    "slic[0][1] = 99 # modifying the sliced array modifies the underlying array\n",
    "print(an_array)"
   ]
  },
  {
   "cell_type": "markdown",
   "metadata": {},
   "source": [
    "**Slices are only references to the same underlying array**"
   ]
  },
  {
   "cell_type": "code",
   "execution_count": 36,
   "metadata": {},
   "outputs": [],
   "source": [
    "# to create a copy of the slice;\n",
    "slicD = np.array(an_array[0:2, 1:3])"
   ]
  },
  {
   "cell_type": "code",
   "execution_count": 37,
   "metadata": {},
   "outputs": [
    {
     "name": "stdout",
     "output_type": "stream",
     "text": [
      "99\n",
      "444\n"
     ]
    }
   ],
   "source": [
    "slicD[0][1] = 444\n",
    "print(an_array[0][2]) # modifying slicD does not change the underlying array as it is a copy and not a reference\n",
    "print(slicD[0][1])"
   ]
  },
  {
   "cell_type": "markdown",
   "metadata": {},
   "source": [
    "## Use both Integer Indexing and Slicing"
   ]
  },
  {
   "cell_type": "code",
   "execution_count": 84,
   "metadata": {},
   "outputs": [
    {
     "name": "stdout",
     "output_type": "stream",
     "text": [
      "[[11 12 13 14]\n",
      " [21 22 23 24]\n",
      " [31 32 33 34]]\n"
     ]
    }
   ],
   "source": [
    "an_array = np.array([[11, 12, 13, 14], [21, 22, 23, 24], [31, 32, 33, 34]])\n",
    "print(an_array)"
   ]
  },
  {
   "cell_type": "code",
   "execution_count": 85,
   "metadata": {},
   "outputs": [
    {
     "name": "stdout",
     "output_type": "stream",
     "text": [
      "First column: [11 21 31]\n",
      "(3,)\n",
      "First row: [11 12 13 14]\n",
      "(4,)\n"
     ]
    }
   ],
   "source": [
    "first_column = np.array(an_array[:, 0])\n",
    "first_row = np.array(an_array[0, :])\n",
    "print(\"First column:\", first_column)\n",
    "print(first_column.shape)\n",
    "print(\"First row:\", first_row)\n",
    "print(first_row.shape)\n",
    "# using the signle integer for slicing is a special case, it return a rank 1 matrix\n",
    "# notice the single []"
   ]
  },
  {
   "cell_type": "code",
   "execution_count": 86,
   "metadata": {},
   "outputs": [
    {
     "name": "stdout",
     "output_type": "stream",
     "text": [
      "[[11 12 13 14]] (1, 4)\n"
     ]
    }
   ],
   "source": [
    "# using 0:1 to refer to the first row will not return a rank 1 matrix, rather a rank 2 matrix\n",
    "r2 = np.array(an_array[0:1, :])\n",
    "print(r2, r2.shape)\n",
    "#notice the [[]]"
   ]
  },
  {
   "cell_type": "code",
   "execution_count": 87,
   "metadata": {},
   "outputs": [
    {
     "name": "stdout",
     "output_type": "stream",
     "text": [
      "<class 'numpy.ndarray'> [1 3 5 7 9] (5,)\n"
     ]
    }
   ],
   "source": [
    "# np.arange function\n",
    "# return evenly spaced integers in the mentioned half-open interval\n",
    "x = np.arange(1, 10, 2)\n",
    "print(type(x), x, x.shape)"
   ]
  },
  {
   "cell_type": "code",
   "execution_count": 88,
   "metadata": {},
   "outputs": [
    {
     "name": "stdout",
     "output_type": "stream",
     "text": [
      "0 , 1\n",
      "1 , 2\n",
      "2 , 3\n"
     ]
    }
   ],
   "source": [
    "x = [0, 1, 2]\n",
    "y = np.arange(1, 4, 1)\n",
    "k = zip(x, y)\n",
    "for i, j in k:\n",
    "    print(i, \",\", j)\n"
   ]
  },
  {
   "cell_type": "code",
   "execution_count": 89,
   "metadata": {},
   "outputs": [
    {
     "name": "stdout",
     "output_type": "stream",
     "text": [
      "[12 23 34]\n",
      "[10012 10023 10034]\n"
     ]
    }
   ],
   "source": [
    "print(an_array[x, y])\n",
    "an_array[x, y] += 10000\n",
    "print(an_array[x, y])\n",
    "# we can also use array of indices in addition to : and integer values for slicing"
   ]
  },
  {
   "cell_type": "markdown",
   "metadata": {},
   "source": [
    "## Boolean Indexing"
   ]
  },
  {
   "cell_type": "code",
   "execution_count": 90,
   "metadata": {},
   "outputs": [
    {
     "name": "stdout",
     "output_type": "stream",
     "text": [
      "[[11 12]\n",
      " [21 22]\n",
      " [31 32]] (3, 2)\n"
     ]
    }
   ],
   "source": [
    "an_array = np.array([[11, 12], [21, 22], [31, 32]])\n",
    "print(an_array, an_array.shape)"
   ]
  },
  {
   "cell_type": "code",
   "execution_count": 92,
   "metadata": {},
   "outputs": [
    {
     "name": "stdout",
     "output_type": "stream",
     "text": [
      "[[False False]\n",
      " [ True  True]\n",
      " [ True  True]] <class 'numpy.ndarray'> (3, 2)\n"
     ]
    }
   ],
   "source": [
    "fil = an_array > 15\n",
    "print(filter, type(fil), fil.shape)"
   ]
  },
  {
   "cell_type": "code",
   "execution_count": 95,
   "metadata": {},
   "outputs": [
    {
     "name": "stdout",
     "output_type": "stream",
     "text": [
      "[21 22 31 32] (4,)\n"
     ]
    }
   ],
   "source": [
    "print(an_array[fil], an_array[fil].shape)\n",
    "# only selects those values at which boolean value is true"
   ]
  },
  {
   "cell_type": "code",
   "execution_count": 96,
   "metadata": {},
   "outputs": [
    {
     "name": "stdout",
     "output_type": "stream",
     "text": [
      "[[11  0]\n",
      " [21  0]\n",
      " [31  0]]\n"
     ]
    }
   ],
   "source": [
    "# using this we can change all the values in an array which meet a particular critera, or apply a logical filter\n",
    "an_array[an_array % 2 == 0] = 0\n",
    "print(an_array)"
   ]
  },
  {
   "cell_type": "markdown",
   "metadata": {},
   "source": [
    "## NdArray Datatypes and Operations"
   ]
  },
  {
   "cell_type": "code",
   "execution_count": 97,
   "metadata": {},
   "outputs": [
    {
     "name": "stdout",
     "output_type": "stream",
     "text": [
      "float64\n"
     ]
    }
   ],
   "source": [
    "ex1 = np.array([1.1, 2.2, 3.3])\n",
    "print(ex1.dtype)"
   ]
  },
  {
   "cell_type": "code",
   "execution_count": 99,
   "metadata": {},
   "outputs": [
    {
     "name": "stdout",
     "output_type": "stream",
     "text": [
      "[1 2 3] int64\n"
     ]
    }
   ],
   "source": [
    "ex1 = np.array([1.1, 2.2, 3.3], dtype = np.int64) # we can force floats into integers\n",
    "print(ex1, ex1.dtype)"
   ]
  },
  {
   "cell_type": "code",
   "execution_count": 108,
   "metadata": {},
   "outputs": [
    {
     "name": "stdout",
     "output_type": "stream",
     "text": [
      "int64\n",
      "[12  2  3]\n"
     ]
    }
   ],
   "source": [
    "ex1 = np.array(['12', '2', '3'], dtype = np.int64)\n",
    "print(ex1.dtype)\n",
    "print(ex1)"
   ]
  },
  {
   "cell_type": "code",
   "execution_count": 118,
   "metadata": {},
   "outputs": [],
   "source": [
    "ex1 += 23\n",
    "#ex1 += 23.65 causes error as cannot add float to integer"
   ]
  },
  {
   "cell_type": "code",
   "execution_count": 119,
   "metadata": {},
   "outputs": [
    {
     "data": {
      "text/plain": [
       "array([81, 71, 72], dtype=int64)"
      ]
     },
     "execution_count": 119,
     "metadata": {},
     "output_type": "execute_result"
    }
   ],
   "source": [
    "ex1"
   ]
  },
  {
   "cell_type": "code",
   "execution_count": 129,
   "metadata": {},
   "outputs": [
    {
     "name": "stdout",
     "output_type": "stream",
     "text": [
      "[113.  222.4 327.5]\n",
      "[109.  221.6 318.5]\n"
     ]
    }
   ],
   "source": [
    "a1 = np.array([111, 222, 323])\n",
    "a2 = np.array([2, 0.4, 4.5])\n",
    "print(a1 + a2)\n",
    "print(a1 - a2)\n",
    "# the result upcasts to float to avoid losing precision"
   ]
  },
  {
   "cell_type": "code",
   "execution_count": 130,
   "metadata": {},
   "outputs": [
    {
     "name": "stdout",
     "output_type": "stream",
     "text": [
      "[1.60948707e+048 2.59044862e+096 1.89285634e+140]\n"
     ]
    }
   ],
   "source": [
    "# exponentiation of array\n",
    "print(np.exp(a1))"
   ]
  },
  {
   "cell_type": "code",
   "execution_count": 133,
   "metadata": {},
   "outputs": [
    {
     "name": "stdout",
     "output_type": "stream",
     "text": [
      "[ 55.5        555.          71.77777778]\n"
     ]
    }
   ],
   "source": [
    "#division of array\n",
    "print(a1 / a2)"
   ]
  },
  {
   "cell_type": "code",
   "execution_count": 134,
   "metadata": {},
   "outputs": [
    {
     "name": "stdout",
     "output_type": "stream",
     "text": [
      "[ 222.    88.8 1453.5]\n"
     ]
    }
   ],
   "source": [
    "# element wise multiplication of array\n",
    "print(a1 * a2)"
   ]
  },
  {
   "cell_type": "markdown",
   "metadata": {},
   "source": [
    "## Statistical, Sorting and Set Operations"
   ]
  },
  {
   "cell_type": "code",
   "execution_count": 142,
   "metadata": {},
   "outputs": [
    {
     "name": "stdout",
     "output_type": "stream",
     "text": [
      "[[ -4.21439382 -12.96757233  -8.41369557   5.66781626]\n",
      " [-10.25391896   8.51226365  -8.23682799   4.54312913]]\n"
     ]
    }
   ],
   "source": [
    "# create a 2x5 array filled with random values from normal distribution\n",
    "an_array = 10 * np.random.randn(2, 4)\n",
    "print(an_array)"
   ]
  },
  {
   "cell_type": "code",
   "execution_count": 144,
   "metadata": {},
   "outputs": [
    {
     "name": "stdout",
     "output_type": "stream",
     "text": [
      "-3.170399952602035\n"
     ]
    }
   ],
   "source": [
    "# finding the mean for the array\n",
    "x = np.mean(an_array)\n",
    "print(x)"
   ]
  },
  {
   "cell_type": "code",
   "execution_count": 146,
   "metadata": {},
   "outputs": [
    {
     "name": "stdout",
     "output_type": "stream",
     "text": [
      "[-4.98196137 -1.35883854]\n"
     ]
    }
   ],
   "source": [
    "# compute row wise mean\n",
    "row_wise = np.mean(an_array, axis = 1)\n",
    "print(row_wise)"
   ]
  },
  {
   "cell_type": "code",
   "execution_count": 147,
   "metadata": {},
   "outputs": [
    {
     "name": "stdout",
     "output_type": "stream",
     "text": [
      "[-7.23415639 -2.22765434 -8.32526178  5.1054727 ]\n"
     ]
    }
   ],
   "source": [
    "# compute column wise mean\n",
    "col_wise = np.mean(an_array, axis = 0)\n",
    "print(col_wise)"
   ]
  },
  {
   "cell_type": "code",
   "execution_count": 148,
   "metadata": {},
   "outputs": [
    {
     "name": "stdout",
     "output_type": "stream",
     "text": [
      "[-14.46831278  -4.45530868 -16.65052355  10.21094539]\n"
     ]
    }
   ],
   "source": [
    "# compute column wise sum\n",
    "col_sum = np.sum(an_array, axis = 0)\n",
    "print(col_sum)"
   ]
  },
  {
   "cell_type": "code",
   "execution_count": 150,
   "metadata": {},
   "outputs": [
    {
     "name": "stdout",
     "output_type": "stream",
     "text": [
      "[-19.92784546  -5.43535416]\n"
     ]
    }
   ],
   "source": [
    "#compute row wise sum\n",
    "row_sum = np.sum(an_array, axis = 1)\n",
    "print(row_sum)"
   ]
  },
  {
   "cell_type": "code",
   "execution_count": 151,
   "metadata": {},
   "outputs": [
    {
     "name": "stdout",
     "output_type": "stream",
     "text": [
      "-25.36319962081628\n"
     ]
    }
   ],
   "source": [
    "#compute sum of array\n",
    "s = np.sum(an_array)\n",
    "print(s)"
   ]
  },
  {
   "cell_type": "code",
   "execution_count": 152,
   "metadata": {},
   "outputs": [
    {
     "name": "stdout",
     "output_type": "stream",
     "text": [
      "[-6.3140447  -1.84684943]\n"
     ]
    }
   ],
   "source": [
    "# compute the median  by row\n",
    "md = np.median(an_array, axis = 1)\n",
    "print(md)"
   ]
  },
  {
   "cell_type": "code",
   "execution_count": 158,
   "metadata": {},
   "outputs": [
    {
     "name": "stdout",
     "output_type": "stream",
     "text": [
      "[[-12.96757233  -8.41369557  -4.21439382   5.66781626]\n",
      " [-10.25391896  -8.23682799   4.54312913   8.51226365]]\n",
      "[[ -4.21439382 -12.96757233  -8.41369557   5.66781626]\n",
      " [-10.25391896   8.51226365  -8.23682799   4.54312913]]\n"
     ]
    }
   ],
   "source": [
    "# sort an array\n",
    "copy = np.array(an_array)\n",
    "copy.sort()\n",
    "print(copy)\n",
    "print(an_array)"
   ]
  },
  {
   "cell_type": "code",
   "execution_count": 159,
   "metadata": {},
   "outputs": [
    {
     "name": "stdout",
     "output_type": "stream",
     "text": [
      "[[-12.96757233  -8.41369557  -4.21439382   5.66781626]\n",
      " [-10.25391896  -8.23682799   4.54312913   8.51226365]]\n"
     ]
    }
   ],
   "source": [
    "# sort in place\n",
    "an_array.sort()\n",
    "print(an_array)"
   ]
  },
  {
   "cell_type": "code",
   "execution_count": 163,
   "metadata": {},
   "outputs": [
    {
     "name": "stdout",
     "output_type": "stream",
     "text": [
      "[1 2 3 4 5] (5,) <class 'numpy.ndarray'>\n"
     ]
    }
   ],
   "source": [
    "# find out unique elements from an array\n",
    "x = [[1, 2, 2], [3, 5, 3], [4, 2, 1]]\n",
    "un = np.unique(x)\n",
    "print(un, un.shape, type(un))\n"
   ]
  },
  {
   "cell_type": "markdown",
   "metadata": {},
   "source": [
    "## Using Set Operations with Np.arrays"
   ]
  },
  {
   "cell_type": "code",
   "execution_count": 177,
   "metadata": {},
   "outputs": [],
   "source": [
    "a1 = np.array(['bulb', 'chair', 'desk'])\n",
    "a2 = np.array(['bulb', 'table', 'sofa'])"
   ]
  },
  {
   "cell_type": "code",
   "execution_count": 178,
   "metadata": {},
   "outputs": [
    {
     "name": "stdout",
     "output_type": "stream",
     "text": [
      "['bulb']\n"
     ]
    }
   ],
   "source": [
    "inter = np.intersect1d(a1, a2) # can be run with multi-dim arrays too.\n",
    "print(inter)"
   ]
  },
  {
   "cell_type": "code",
   "execution_count": 179,
   "metadata": {},
   "outputs": [
    {
     "name": "stdout",
     "output_type": "stream",
     "text": [
      "['bulb' 'chair' 'desk' 'sofa' 'table']\n"
     ]
    }
   ],
   "source": [
    "un = np.union1d(a1, a2)\n",
    "print(un)"
   ]
  },
  {
   "cell_type": "code",
   "execution_count": 181,
   "metadata": {},
   "outputs": [
    {
     "name": "stdout",
     "output_type": "stream",
     "text": [
      "['chair' 'desk']\n"
     ]
    }
   ],
   "source": [
    "diff = np.setdiff1d(a1, a2) # s1 - s2 i.e. elements in s1 that are not there in s2\n",
    "print(diff)"
   ]
  },
  {
   "cell_type": "code",
   "execution_count": 182,
   "metadata": {},
   "outputs": [
    {
     "name": "stdout",
     "output_type": "stream",
     "text": [
      "[ True False False]\n"
     ]
    }
   ],
   "source": [
    "com = np.in1d(a1, a2) # return array of boolean values \n",
    "# true for values common in a1 and a2, false otherwise\n",
    "print(com)"
   ]
  },
  {
   "cell_type": "code",
   "execution_count": 186,
   "metadata": {},
   "outputs": [
    {
     "name": "stdout",
     "output_type": "stream",
     "text": [
      "[[1 2 3]\n",
      " [4 5 6]]\n"
     ]
    }
   ],
   "source": [
    "x = np.array([[1, 2, 3], [4, 5, 6], [7, 8, 9]])\n",
    "print(x[:2,]) # this works\n",
    "print(x[,:2]) # this returns an error"
   ]
  },
  {
   "cell_type": "markdown",
   "metadata": {},
   "source": [
    "## BroadCasting"
   ]
  },
  {
   "cell_type": "code",
   "execution_count": 188,
   "metadata": {},
   "outputs": [
    {
     "name": "stdout",
     "output_type": "stream",
     "text": [
      "[[0. 0. 0.]\n",
      " [0. 0. 0.]\n",
      " [0. 0. 0.]\n",
      " [0. 0. 0.]]\n"
     ]
    }
   ],
   "source": [
    "arr = np.zeros((4,3))\n",
    "print(arr)"
   ]
  },
  {
   "cell_type": "code",
   "execution_count": 189,
   "metadata": {},
   "outputs": [
    {
     "name": "stdout",
     "output_type": "stream",
     "text": [
      "[[1. 2. 3.]\n",
      " [1. 2. 3.]\n",
      " [1. 2. 3.]\n",
      " [1. 2. 3.]]\n"
     ]
    }
   ],
   "source": [
    "add_rows = np.array([1, 2, 3])\n",
    "print(arr + add_rows)"
   ]
  },
  {
   "cell_type": "code",
   "execution_count": 196,
   "metadata": {},
   "outputs": [
    {
     "name": "stdout",
     "output_type": "stream",
     "text": [
      "[1 2 3 4]\n",
      "[[1]\n",
      " [2]\n",
      " [3]\n",
      " [4]] [[1. 1. 1.]\n",
      " [2. 2. 2.]\n",
      " [3. 3. 3.]\n",
      " [4. 4. 4.]]\n"
     ]
    }
   ],
   "source": [
    "add_cols = np.array([1, 2, 3, 4])\n",
    "add_cols = add_cols.T\n",
    "print(add_cols) # this creates a vector only, we need to create a 1 x 4 matrix to have a transpose of 4 x 1\n",
    "add_cols = np.array([[1, 2, 3, 4]])\n",
    "add_cols = add_cols.T\n",
    "print(add_cols, arr + add_cols)"
   ]
  },
  {
   "cell_type": "code",
   "execution_count": 198,
   "metadata": {},
   "outputs": [
    {
     "name": "stdout",
     "output_type": "stream",
     "text": [
      "[[1. 1. 1.]\n",
      " [1. 1. 1.]\n",
      " [1. 1. 1.]\n",
      " [1. 1. 1.]]\n"
     ]
    }
   ],
   "source": [
    "add_scalar = np.array([[1]])\n",
    "print(arr + add_scalar)"
   ]
  },
  {
   "cell_type": "code",
   "execution_count": 199,
   "metadata": {},
   "outputs": [
    {
     "name": "stdout",
     "output_type": "stream",
     "text": [
      "[[1. 1. 1.]\n",
      " [1. 1. 1.]\n",
      " [1. 1. 1.]\n",
      " [1. 1. 1.]]\n"
     ]
    }
   ],
   "source": [
    "add_scalar2 = np.array([1])\n",
    "print(arr + add_scalar2)"
   ]
  },
  {
   "cell_type": "code",
   "execution_count": 200,
   "metadata": {},
   "outputs": [
    {
     "name": "stdout",
     "output_type": "stream",
     "text": [
      "[[1. 1. 1.]\n",
      " [1. 1. 1.]\n",
      " [1. 1. 1.]\n",
      " [1. 1. 1.]]\n"
     ]
    }
   ],
   "source": [
    "print(arr + 1)"
   ]
  },
  {
   "cell_type": "code",
   "execution_count": null,
   "metadata": {},
   "outputs": [],
   "source": []
  }
 ],
 "metadata": {
  "kernelspec": {
   "display_name": "Python 3",
   "language": "python",
   "name": "python3"
  },
  "language_info": {
   "codemirror_mode": {
    "name": "ipython",
    "version": 3
   },
   "file_extension": ".py",
   "mimetype": "text/x-python",
   "name": "python",
   "nbconvert_exporter": "python",
   "pygments_lexer": "ipython3",
   "version": "3.7.1"
  }
 },
 "nbformat": 4,
 "nbformat_minor": 2
}
